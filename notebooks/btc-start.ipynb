{
 "cells": [
  {
   "cell_type": "code",
   "execution_count": 11,
   "metadata": {
    "tags": [
     "outputPrepend"
    ]
   },
   "outputs": [
    {
     "output_type": "stream",
     "name": "stdout",
     "text": "[('0', '000000000019d6689c085ae165831e934ff763ae46a2a6c172b3f1b60a8ce26f', '1231006505', '1'), ('1', '00000000839a8e6886ab5951d76f411475428afc90947ee320161bbf18eb6048', '1231469665', '1'), ('2', '000000006a625f06636b8bb6ac7b960a8d03705d1ace08b1a19da3fdcc99ddbd', '1231469744', '1'), ('3', '0000000082b5015589a3fdf2d4baff403e6f0be035a5d9742c1cae6295464449', '1231470173', '1'), ('4', '000000004ebadb55ee9096c9a2f8880e09da59c0d68b1c228da88e48844a1485', '1231470988', '1')]\n"
    }
   ],
   "source": [
    "# Loading data\n",
    "from tools.data_loader import load_dat\n",
    "lines = load_dat(\"../btc_data/bh.dat\")\n",
    "print(lines[:5])"
   ]
  },
  {
   "cell_type": "code",
   "execution_count": null,
   "metadata": {},
   "outputs": [],
   "source": []
  }
 ],
 "metadata": {
  "kernelspec": {
   "display_name": "Python 3",
   "language": "python",
   "name": "python3"
  },
  "language_info": {
   "codemirror_mode": {
    "name": "ipython",
    "version": 3
   },
   "file_extension": ".py",
   "mimetype": "text/x-python",
   "name": "python",
   "nbconvert_exporter": "python",
   "pygments_lexer": "ipython3",
   "version": "3.7.4-final"
  }
 },
 "nbformat": 4,
 "nbformat_minor": 4
}